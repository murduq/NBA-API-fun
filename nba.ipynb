{
 "cells": [
  {
   "cell_type": "code",
   "execution_count": 1,
   "metadata": {},
   "outputs": [],
   "source": [
    "import pandas as pd\n",
    "import random\n",
    "from nba_api.stats.endpoints import playercareerstats\n",
    "from nba_api.live.nba.endpoints import scoreboard\n",
    "from datetime import datetime\n"
   ]
  },
  {
   "attachments": {},
   "cell_type": "markdown",
   "metadata": {},
   "source": [
    "Checking Previous Predictions"
   ]
  },
  {
   "cell_type": "code",
   "execution_count": null,
   "metadata": {},
   "outputs": [],
   "source": []
  },
  {
   "attachments": {},
   "cell_type": "markdown",
   "metadata": {},
   "source": [
    "Predicting Today's Games"
   ]
  },
  {
   "cell_type": "code",
   "execution_count": 2,
   "metadata": {},
   "outputs": [],
   "source": [
    "curr_scoreboard = scoreboard.ScoreBoard()\n",
    "games = curr_scoreboard.get_dict()\n",
    "games_sb = games['scoreboard']\n",
    "# games_sb['games'][0].keys()"
   ]
  },
  {
   "cell_type": "code",
   "execution_count": 3,
   "metadata": {},
   "outputs": [
    {
     "name": "stdout",
     "output_type": "stream",
     "text": [
      "Nets (26-45) @ Knicks (42-28)\n",
      "I pick... The Nets (35.68%)\n",
      "Kings (40-29) @ Magic (42-28)\n",
      "I pick... The Magic (53.24%)\n",
      "Hornets (17-52) @ Hawks (30-39)\n",
      "I pick... The Hawks (66.0%)\n",
      "Raptors (23-47) @ Wizards (12-58)\n",
      "I pick... The Raptors (63.54%)\n",
      "Celtics (56-14) @ Bulls (34-36)\n",
      "I pick... The Celtics (59.96%)\n",
      "Jazz (29-41) @ Rockets (34-35)\n",
      "I pick... The Rockets (56.68%)\n",
      "Suns (41-29) @ Spurs (15-55)\n",
      "I pick... The Suns (71.3%)\n",
      "Nuggets (49-21) @ Trail Blazers (19-51)\n",
      "I pick... The Nuggets (70.1%)\n"
     ]
    }
   ],
   "source": [
    "confidence_level = 4   # how many simulations to run\n",
    "hca = 1.1              # home court advantage multiplier\n",
    "with open(f'Predictions/{datetime.today().date()}.txt', 'w+') as daily_games:\n",
    "    \n",
    "    for game in games_sb['games']:\n",
    "        home = game['homeTeam']\n",
    "        home_win_percent = 100*(home['wins']/(home['wins']+home['losses']))\n",
    "        home_boost = home_win_percent*hca\n",
    "        away = game['awayTeam']\n",
    "        away_win_percent = 100*(away['wins']/(away['wins']+away['losses']))\n",
    "        print(f\"{away['teamName']} ({away['wins']}-{away['losses']}) @ {home['teamName']} ({home['wins']}-{home['losses']})\")\n",
    "        daily_games.write(f\"{away['teamName']} ({away['wins']}-{away['losses']}) @ {home['teamName']} ({home['wins']}-{home['losses']})\\n\")\n",
    "        \n",
    "        probability = {home['teamName']:round(100*(home_boost/(home_boost+away_win_percent)), 2),\n",
    "                    away['teamName']:round(100*(away_win_percent/(home_boost+away_win_percent)), 2)}\n",
    "        \n",
    "        predictions = random.choices([home['teamName'], away['teamName']], weights=(home_boost, away_win_percent), k=confidence_level)    \n",
    "        pred_winner = max(set(predictions), key=predictions.count)\n",
    "        print(f\"I pick... The {pred_winner} ({probability[pred_winner]}%)\")\n",
    "        daily_games.write(f\"    I pick... the {pred_winner} ({probability[pred_winner]}%)\\n\")"
   ]
  }
 ],
 "metadata": {
  "kernelspec": {
   "display_name": "Python 3",
   "language": "python",
   "name": "python3"
  },
  "language_info": {
   "codemirror_mode": {
    "name": "ipython",
    "version": 3
   },
   "file_extension": ".py",
   "mimetype": "text/x-python",
   "name": "python",
   "nbconvert_exporter": "python",
   "pygments_lexer": "ipython3",
   "version": "3.10.11"
  },
  "orig_nbformat": 4,
  "vscode": {
   "interpreter": {
    "hash": "ab08e16748d11d494c55aeeb3fa5c07b6807b5d21dc7364e6d69d61813119ed5"
   }
  }
 },
 "nbformat": 4,
 "nbformat_minor": 2
}
