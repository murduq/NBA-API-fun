{
 "cells": [
  {
   "cell_type": "code",
   "execution_count": 1,
   "metadata": {},
   "outputs": [],
   "source": [
    "import pandas as pd\n",
    "import random, time\n",
    "from nba_api.stats.static import players, teams\n",
    "from nba_api.stats.endpoints import playercareerstats\n",
    "from nba_api.stats.endpoints import commonteamroster\n",
    "from nba_api.stats.endpoints import franchiseplayers\n",
    "from nba_api.live.nba.endpoints import scoreboard\n",
    "from datetime import datetime"
   ]
  },
  {
   "cell_type": "code",
   "execution_count": 2,
   "metadata": {},
   "outputs": [],
   "source": [
    "# player1 = input('enter player 1: ')\n",
    "player1= 'Russell Westbrook'\n",
    "player2 = \"Zion Williamson\""
   ]
  },
  {
   "cell_type": "code",
   "execution_count": 3,
   "metadata": {},
   "outputs": [],
   "source": [
    "# TODO figure out a better solution for same name players (the gerald henderson problem)\n",
    "p1Dict = players.find_players_by_full_name(player1)[-1]\n",
    "# time.sleep(.600)\n",
    "p2Dict = players.find_players_by_full_name(player2)[-1]\n",
    "# time.sleep(.600)\n",
    "\n",
    "p1Career = playercareerstats.PlayerCareerStats(player_id=p1Dict['id']).get_data_frames()\n",
    "# time.sleep(.600)\n",
    "p2Career = playercareerstats.PlayerCareerStats(player_id=p2Dict['id']).get_data_frames()\n",
    "# time.sleep(.600)"
   ]
  },
  {
   "cell_type": "code",
   "execution_count": 4,
   "metadata": {},
   "outputs": [
    {
     "data": {
      "text/plain": [
       "150"
      ]
     },
     "execution_count": 4,
     "metadata": {},
     "output_type": "execute_result"
    }
   ],
   "source": [
    "p1_teammates = pd.DataFrame(columns=['PLAYER', 'TeamID'])\n",
    "for season in range(p1Career[0].shape[0]):\n",
    "    temp_teammates = commonteamroster.CommonTeamRoster(team_id=p1Career[0]['TEAM_ID'][season],\n",
    "                                                        season=p1Career[0]['SEASON_ID'][season]).get_data_frames()[0]\n",
    "    time.sleep(.600)\n",
    "    p1_teammates = pd.concat([p1_teammates, temp_teammates])\n",
    "p1_teammates.PLAYER.nunique()"
   ]
  },
  {
   "cell_type": "code",
   "execution_count": 5,
   "metadata": {},
   "outputs": [
    {
     "data": {
      "text/plain": [
       "44"
      ]
     },
     "execution_count": 5,
     "metadata": {},
     "output_type": "execute_result"
    }
   ],
   "source": [
    "p2_teammates = pd.DataFrame(columns=['PLAYER', 'TeamID'])\n",
    "for season in range(p2Career[0].shape[0]):\n",
    "    temp_teammates = commonteamroster.CommonTeamRoster(team_id=p2Career[0]['TEAM_ID'][season],\n",
    "                                                        season=p2Career[0]['SEASON_ID'][season]).get_data_frames()[0]\n",
    "    time.sleep(.600)\n",
    "    p2_teammates = pd.concat([p2_teammates, temp_teammates])\n",
    "p2_teammates.PLAYER.nunique()"
   ]
  },
  {
   "cell_type": "code",
   "execution_count": 6,
   "metadata": {},
   "outputs": [],
   "source": [
    "p1_teammates_u = p1_teammates.groupby(['PLAYER'], as_index=False).first()[['PLAYER',]] #'TeamID']]\n",
    "p2_teammates_u = p2_teammates.groupby(['PLAYER'], as_index=False).first()[['PLAYER',]] #'TeamID']]"
   ]
  },
  {
   "cell_type": "code",
   "execution_count": 7,
   "metadata": {},
   "outputs": [
    {
     "name": "stdout",
     "output_type": "stream",
     "text": [
      "Russell Westbrook and Zion Williamson have 2 teammates in common.\n",
      "['Steven Adams', 'Wenyen Gabriel']\n"
     ]
    }
   ],
   "source": [
    "common_teammates = pd.merge(p1_teammates_u, p2_teammates_u, how='inner', on='PLAYER')\n",
    "print(f\"{player1} and {player2} have {common_teammates.shape[0]} teammates in common.\")\n",
    "print(common_teammates['PLAYER'].tolist())"
   ]
  }
 ],
 "metadata": {
  "kernelspec": {
   "display_name": "Python 3",
   "language": "python",
   "name": "python3"
  },
  "language_info": {
   "codemirror_mode": {
    "name": "ipython",
    "version": 3
   },
   "file_extension": ".py",
   "mimetype": "text/x-python",
   "name": "python",
   "nbconvert_exporter": "python",
   "pygments_lexer": "ipython3",
   "version": "3.10.11"
  },
  "orig_nbformat": 4
 },
 "nbformat": 4,
 "nbformat_minor": 2
}
