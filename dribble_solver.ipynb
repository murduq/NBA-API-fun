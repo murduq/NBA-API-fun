{
 "cells": [
  {
   "cell_type": "code",
   "execution_count": 21,
   "metadata": {},
   "outputs": [],
   "source": [
    "import pandas as pd\n",
    "import random, time\n",
    "from nba_api.stats.static import players, teams\n",
    "from nba_api.stats.endpoints import playercareerstats\n",
    "from nba_api.stats.endpoints import commonteamroster"
   ]
  },
  {
   "cell_type": "code",
   "execution_count": 22,
   "metadata": {},
   "outputs": [],
   "source": [
    "# player1 = input('enter player 1: ')\n",
    "player1= \"Nassir Little\"\n",
    "player2 = \"Kemba Walker\""
   ]
  },
  {
   "cell_type": "code",
   "execution_count": 23,
   "metadata": {},
   "outputs": [],
   "source": [
    "# TODO figure out a better solution for same name players (the gerald henderson problem)\n",
    "p1Dict = players.find_players_by_full_name(player1)[-1]\n",
    "# time.sleep(.600)\n",
    "p2Dict = players.find_players_by_full_name(player2)[-1]\n",
    "# time.sleep(.600)\n",
    "\n",
    "p1Career = playercareerstats.PlayerCareerStats(player_id=p1Dict['id']).get_data_frames()\n",
    "# time.sleep(.600)\n",
    "p2Career = playercareerstats.PlayerCareerStats(player_id=p2Dict['id']).get_data_frames()\n",
    "# time.sleep(.600)"
   ]
  },
  {
   "cell_type": "code",
   "execution_count": 24,
   "metadata": {},
   "outputs": [
    {
     "data": {
      "text/plain": [
       "62"
      ]
     },
     "execution_count": 24,
     "metadata": {},
     "output_type": "execute_result"
    }
   ],
   "source": [
    "p1_teammates = pd.DataFrame(columns=['PLAYER', 'TeamID'])\n",
    "for season in range(p1Career[0].shape[0]):\n",
    "    temp_teammates = commonteamroster.CommonTeamRoster(team_id=p1Career[0]['TEAM_ID'][season],\n",
    "                                                        season=p1Career[0]['SEASON_ID'][season]).get_data_frames()[0]\n",
    "    time.sleep(.600)\n",
    "    p1_teammates = pd.concat([p1_teammates, temp_teammates])\n",
    "p1_teammates.PLAYER.nunique()"
   ]
  },
  {
   "cell_type": "code",
   "execution_count": 25,
   "metadata": {},
   "outputs": [
    {
     "data": {
      "text/plain": [
       "121"
      ]
     },
     "execution_count": 25,
     "metadata": {},
     "output_type": "execute_result"
    }
   ],
   "source": [
    "p2_teammates = pd.DataFrame(columns=['PLAYER', 'TeamID'])\n",
    "for season in range(p2Career[0].shape[0]):\n",
    "    temp_teammates = commonteamroster.CommonTeamRoster(team_id=p2Career[0]['TEAM_ID'][season],\n",
    "                                                        season=p2Career[0]['SEASON_ID'][season]).get_data_frames()[0]\n",
    "    time.sleep(.600)\n",
    "    p2_teammates = pd.concat([p2_teammates, temp_teammates])\n",
    "p2_teammates.PLAYER.nunique()"
   ]
  },
  {
   "cell_type": "code",
   "execution_count": 26,
   "metadata": {},
   "outputs": [],
   "source": [
    "p1_teammates_u = p1_teammates.groupby(['PLAYER'], as_index=False).first()[['PLAYER','TeamID']]\n",
    "p2_teammates_u = p2_teammates.groupby(['PLAYER'], as_index=False).first()[['PLAYER','TeamID']]\n",
    "common_teammates = pd.merge(p1_teammates_u, p2_teammates_u, how='inner', on='PLAYER')\n",
    "\n",
    "teams_to_query = pd.concat([common_teammates['TeamID_x'], common_teammates['TeamID_y']]).unique()\n",
    "team_list = pd.DataFrame(columns=['TeamID', 'Team Name'])\n",
    "for t in teams_to_query:\n",
    "    temp_team_dict = teams.find_team_name_by_id(t)\n",
    "    temp_team = pd.DataFrame(data={'TeamID':[int(temp_team_dict['id'])],\n",
    "                                    'Team Name':[temp_team_dict['abbreviation']]})\n",
    "    team_list = pd.concat([team_list, temp_team])\n",
    "    time.sleep(.600)\n",
    "\n",
    "common_teammates = pd.merge(common_teammates, team_list, how='left', left_on='TeamID_x', right_on='TeamID')\n",
    "common_teammates = pd.merge(common_teammates, team_list, how='left', left_on='TeamID_y', right_on='TeamID', suffixes=('_P1', '_P2'))\n",
    "\n",
    "common_teammates = common_teammates.rename(columns={'Team Name_P1': f'{player1}',\n",
    "                                                    'Team Name_P2': f'{player2}'})[['PLAYER', f'{player1}', f'{player2}']]"
   ]
  },
  {
   "cell_type": "code",
   "execution_count": 27,
   "metadata": {},
   "outputs": [
    {
     "name": "stdout",
     "output_type": "stream",
     "text": [
      "Nassir Little and Kemba Walker have 3 teammates in common.\n",
      "             Nassir Little Kemba Walker\n",
      "PLAYER                                 \n",
      "Cam Reddish            POR          NYK\n",
      "Enes Freedom           POR          BOS\n",
      "Moses Brown            POR          BOS\n"
     ]
    }
   ],
   "source": [
    "# common_teammates = pd.merge(p1_teammates_u, p2_teammates_u, how='inner', on='PLAYER')\n",
    "print(f\"{player1} and {player2} have {common_teammates.shape[0]} teammates in common.\")\n",
    "print(common_teammates.set_index('PLAYER'))"
   ]
  }
 ],
 "metadata": {
  "kernelspec": {
   "display_name": "Python 3",
   "language": "python",
   "name": "python3"
  },
  "language_info": {
   "codemirror_mode": {
    "name": "ipython",
    "version": 3
   },
   "file_extension": ".py",
   "mimetype": "text/x-python",
   "name": "python",
   "nbconvert_exporter": "python",
   "pygments_lexer": "ipython3",
   "version": "3.10.11"
  },
  "orig_nbformat": 4
 },
 "nbformat": 4,
 "nbformat_minor": 2
}
