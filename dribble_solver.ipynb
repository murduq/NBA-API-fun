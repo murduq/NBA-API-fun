{
 "cells": [
  {
   "cell_type": "code",
   "execution_count": 1,
   "metadata": {},
   "outputs": [],
   "source": [
    "import pandas as pd\n",
    "import random, time\n",
    "from nba_api.stats.static import players, teams\n",
    "from nba_api.stats.endpoints import playercareerstats\n",
    "from nba_api.stats.endpoints import commonteamroster"
   ]
  },
  {
   "cell_type": "code",
   "execution_count": 2,
   "metadata": {},
   "outputs": [],
   "source": [
    "# # player1 = input('enter player 1: ')\n",
    "# player1= \"Vince Carter\"\n",
    "# player2 = \"Draymond Green\""
   ]
  },
  {
   "cell_type": "code",
   "execution_count": 4,
   "metadata": {},
   "outputs": [
    {
     "name": "stdout",
     "output_type": "stream",
     "text": [
      "text: Vince Carter\n",
      "text: Draymond Green\n"
     ]
    }
   ],
   "source": [
    "# webscraping player names with selenium + geckodriver\n",
    "from selenium.webdriver.common.by import By\n",
    "from selenium.webdriver.firefox.options import Options\n",
    "from selenium.webdriver import Firefox\n",
    "\n",
    "url = 'https://dribblegame.com/play'\n",
    "options = Options()\n",
    "options.add_argument(\"--headless\")\n",
    "driver = Firefox(options=options)\n",
    "driver.get(url)\n",
    "time.sleep(random.uniform(0,1))\n",
    "elem = driver.find_element(By.ID, \"prompt_player_1\")\n",
    "player1 = elem.text\n",
    "print(f'text: {elem.text}')\n",
    "# print(f'tag: {elem.tag_name}')\n",
    "# print(f'parent: {elem.parent}')\n",
    "# print(f'location: {elem.location}')\n",
    "# print(f'size: {elem.size}')\n",
    "\n",
    "elem2 = driver.find_element(By.ID, \"prompt_player_2\")\n",
    "player2 = elem2.text\n",
    "print(f'text: {elem2.text}')\n",
    "\n",
    "driver.close()"
   ]
  },
  {
   "cell_type": "code",
   "execution_count": 5,
   "metadata": {},
   "outputs": [],
   "source": [
    "# TODO figure out a better solution for same name players (the gerald henderson problem)\n",
    "p1Dict = players.find_players_by_full_name(player1)[-1]\n",
    "# time.sleep(.600)\n",
    "p2Dict = players.find_players_by_full_name(player2)[-1]\n",
    "# time.sleep(.600)\n",
    "\n",
    "p1Career = playercareerstats.PlayerCareerStats(player_id=p1Dict['id']).get_data_frames()\n",
    "# time.sleep(.600)\n",
    "p2Career = playercareerstats.PlayerCareerStats(player_id=p2Dict['id']).get_data_frames()\n",
    "# time.sleep(.600)"
   ]
  },
  {
   "cell_type": "code",
   "execution_count": 6,
   "metadata": {},
   "outputs": [
    {
     "data": {
      "text/plain": [
       "208"
      ]
     },
     "execution_count": 6,
     "metadata": {},
     "output_type": "execute_result"
    }
   ],
   "source": [
    "p1_teammates = pd.DataFrame(columns=['PLAYER', 'TeamID'])\n",
    "for season in range(p1Career[0].shape[0]):\n",
    "    temp_teammates = commonteamroster.CommonTeamRoster(team_id=p1Career[0]['TEAM_ID'][season],\n",
    "                                                        season=p1Career[0]['SEASON_ID'][season]).get_data_frames()[0]\n",
    "    time.sleep(.600)\n",
    "    p1_teammates = pd.concat([p1_teammates, temp_teammates])\n",
    "p1_teammates.PLAYER.nunique()"
   ]
  },
  {
   "cell_type": "code",
   "execution_count": 7,
   "metadata": {},
   "outputs": [
    {
     "data": {
      "text/plain": [
       "79"
      ]
     },
     "execution_count": 7,
     "metadata": {},
     "output_type": "execute_result"
    }
   ],
   "source": [
    "p2_teammates = pd.DataFrame(columns=['PLAYER', 'TeamID'])\n",
    "for season in range(p2Career[0].shape[0]):\n",
    "    temp_teammates = commonteamroster.CommonTeamRoster(team_id=p2Career[0]['TEAM_ID'][season],\n",
    "                                                        season=p2Career[0]['SEASON_ID'][season]).get_data_frames()[0]\n",
    "    time.sleep(.600)\n",
    "    p2_teammates = pd.concat([p2_teammates, temp_teammates])\n",
    "p2_teammates.PLAYER.nunique()"
   ]
  },
  {
   "cell_type": "code",
   "execution_count": 8,
   "metadata": {},
   "outputs": [],
   "source": [
    "p1_teammates_u = p1_teammates.groupby(['PLAYER'], as_index=False).first()[['PLAYER','TeamID']]\n",
    "p2_teammates_u = p2_teammates.groupby(['PLAYER'], as_index=False).first()[['PLAYER','TeamID']]\n",
    "common_teammates = pd.merge(p1_teammates_u, p2_teammates_u, how='inner', on='PLAYER')\n",
    "\n",
    "teams_to_query = pd.concat([common_teammates['TeamID_x'], common_teammates['TeamID_y']]).unique()\n",
    "team_list = pd.DataFrame(columns=['TeamID', 'Team Name'])\n",
    "for t in teams_to_query:\n",
    "    temp_team_dict = teams.find_team_name_by_id(t)\n",
    "    temp_team = pd.DataFrame(data={'TeamID':[int(temp_team_dict['id'])],\n",
    "                                    'Team Name':[temp_team_dict['abbreviation']]})\n",
    "    team_list = pd.concat([team_list, temp_team])\n",
    "    time.sleep(.600)\n",
    "\n",
    "common_teammates = pd.merge(common_teammates, team_list, how='left', left_on='TeamID_x', right_on='TeamID')\n",
    "common_teammates = pd.merge(common_teammates, team_list, how='left', left_on='TeamID_y', right_on='TeamID', suffixes=('_P1', '_P2'))\n",
    "\n",
    "common_teammates = common_teammates.rename(columns={'Team Name_P1': f'{player1}',\n",
    "                                                    'Team Name_P2': f'{player2}'})[['PLAYER', f'{player1}', f'{player2}']]"
   ]
  },
  {
   "cell_type": "code",
   "execution_count": 9,
   "metadata": {},
   "outputs": [
    {
     "name": "stdout",
     "output_type": "stream",
     "text": [
      "Vince Carter and Draymond Green have 5 teammates in common.\n",
      "                  Vince Carter Draymond Green\n",
      "PLAYER                                       \n",
      "Damian Jones               ATL            GSW\n",
      "JaMychal Green             MEM            GSW\n",
      "Kent Bazemore              ATL            GSW\n",
      "Matt Barnes                ORL            GSW\n",
      "Richard Jefferson          BKN            GSW\n"
     ]
    }
   ],
   "source": [
    "# common_teammates = pd.merge(p1_teammates_u, p2_teammates_u, how='inner', on='PLAYER')\n",
    "print(f\"{player1} and {player2} have {common_teammates.shape[0]} teammates in common.\")\n",
    "print(common_teammates.set_index('PLAYER'))"
   ]
  }
 ],
 "metadata": {
  "kernelspec": {
   "display_name": "Python 3",
   "language": "python",
   "name": "python3"
  },
  "language_info": {
   "codemirror_mode": {
    "name": "ipython",
    "version": 3
   },
   "file_extension": ".py",
   "mimetype": "text/x-python",
   "name": "python",
   "nbconvert_exporter": "python",
   "pygments_lexer": "ipython3",
   "version": "3.11.9"
  },
  "orig_nbformat": 4
 },
 "nbformat": 4,
 "nbformat_minor": 2
}
